{
 "cells": [
  {
   "cell_type": "markdown",
   "id": "59c31e8c",
   "metadata": {},
   "source": [
    "# slicing a list\n",
    "a segment of a list is called a slice and you can extract one by using a slice operator"
   ]
  },
  {
   "cell_type": "code",
   "execution_count": 3,
   "id": "4a3b8428",
   "metadata": {},
   "outputs": [
    {
     "name": "stdout",
     "output_type": "stream",
     "text": [
      "['c', 'd', 'e']\n",
      "['a', 'b', 'c', 'd', 'e']\n",
      "['d', 'e']\n"
     ]
    }
   ],
   "source": [
    "l= ['a','b','c','d','e','f']\n",
    "print(l[2:5])#it prints till e because of the n-1 values\n",
    "print(l[0:5])\n",
    "print(l[3:-1])"
   ]
  },
  {
   "cell_type": "code",
   "execution_count": 5,
   "id": "83e5b1ab",
   "metadata": {},
   "outputs": [
    {
     "name": "stdout",
     "output_type": "stream",
     "text": [
      "['g', 'e', 'c']\n",
      "['b', 'd', 'f']\n"
     ]
    }
   ],
   "source": [
    "l2= ['a','b','c','d','e','f','g','h','i']\n",
    "print(l2[6:1:-2])#return every 2nd item between position 6 to 1\n",
    "print(l2[1:6:2])"
   ]
  },
  {
   "cell_type": "code",
   "execution_count": 6,
   "id": "fdba373c",
   "metadata": {},
   "outputs": [
    {
     "name": "stdout",
     "output_type": "stream",
     "text": [
      "['orange', 'green', 'blue']\n",
      "['orange', 'green', 'violet']\n"
     ]
    }
   ],
   "source": [
    "l3=['red','green','blue']\n",
    "l3[0]='orange'\n",
    "print(l3)\n",
    "\n",
    "l3[-1]='violet'\n",
    "print(l3)"
   ]
  },
  {
   "cell_type": "markdown",
   "id": "f35f14f5",
   "metadata": {},
   "source": [
    "# POP operation"
   ]
  },
  {
   "cell_type": "code",
   "execution_count": 10,
   "id": "8c6cdcb3",
   "metadata": {},
   "outputs": [
    {
     "name": "stdout",
     "output_type": "stream",
     "text": [
      "['red', 'blue']\n",
      "green\n"
     ]
    }
   ],
   "source": [
    "l3=['red','green','blue']\n",
    "x=l3.pop(1)#it will stores the removed value in the new variable\n",
    "print(l3)\n",
    "\n",
    "#prints ['red','blue']\n",
    "\n",
    "#removed item \n",
    "print(x)#prints green"
   ]
  },
  {
   "cell_type": "markdown",
   "id": "b74b99a3",
   "metadata": {},
   "source": [
    "# del Operation"
   ]
  },
  {
   "cell_type": "code",
   "execution_count": 13,
   "id": "ec728526",
   "metadata": {},
   "outputs": [
    {
     "name": "stdout",
     "output_type": "stream",
     "text": [
      "['red', 'blue']\n"
     ]
    }
   ],
   "source": [
    "l3=['red','green','blue']\n",
    "del l3[1]#if u don't need the removed value,use the del statement\n",
    "print(l3)\n",
    "\n"
   ]
  },
  {
   "cell_type": "markdown",
   "id": "bada7a8d",
   "metadata": {},
   "source": [
    "\n",
    "# remove operation\n",
    "Removes an item by value"
   ]
  },
  {
   "cell_type": "code",
   "execution_count": 17,
   "id": "5107b3a4",
   "metadata": {},
   "outputs": [
    {
     "name": "stdout",
     "output_type": "stream",
     "text": [
      "['green', 'blue']\n",
      "['green', 'blue', 'red']\n"
     ]
    }
   ],
   "source": [
    "#remove an item by value\n",
    "#if your not sure where the item is in the list , use remove()method to delete it by value\n",
    "l3=['red','green','blue']\n",
    "l3.remove('red')\n",
    "print(l3)\n",
    "\n",
    "#it will remove the value for one instance only\n",
    "l4=['red','green','blue','red']\n",
    "l4.remove('red')#here it removes only one red value\n",
    "print(l4)"
   ]
  },
  {
   "cell_type": "markdown",
   "id": "d8d52b78",
   "metadata": {},
   "source": [
    "# Clear operation\n",
    "Removes all items "
   ]
  },
  {
   "cell_type": "code",
   "execution_count": 21,
   "id": "c9ddbc23",
   "metadata": {},
   "outputs": [
    {
     "name": "stdout",
     "output_type": "stream",
     "text": [
      "[]\n"
     ]
    }
   ],
   "source": [
    "#use the clear()method to remove all items from the list\n",
    "l3=['red','green','blue']\n",
    "l3.clear()\n",
    "print(l3)#it prints the empty list"
   ]
  },
  {
   "cell_type": "markdown",
   "id": "2e3558c0",
   "metadata": {},
   "source": [
    "# For loop"
   ]
  },
  {
   "cell_type": "code",
   "execution_count": 23,
   "id": "62f3e14c",
   "metadata": {},
   "outputs": [
    {
     "name": "stdout",
     "output_type": "stream",
     "text": [
      "red\n",
      "green\n",
      "blue\n"
     ]
    }
   ],
   "source": [
    "l3=['red','green','blue']\n",
    "for item in l3:#here item is the iterating variable\n",
    "    print(item)"
   ]
  },
  {
   "cell_type": "code",
   "execution_count": 25,
   "id": "65608950",
   "metadata": {},
   "outputs": [
    {
     "name": "stdout",
     "output_type": "stream",
     "text": [
      "red\n",
      "green\n",
      "blue\n"
     ]
    },
    {
     "data": {
      "text/plain": [
       "[None, None, None]"
      ]
     },
     "execution_count": 25,
     "metadata": {},
     "output_type": "execute_result"
    }
   ],
   "source": [
    "#another way for iteraing the values from the list\n",
    "l3=['red','green','blue']\n",
    "[print(x) for x in l3]"
   ]
  },
  {
   "cell_type": "code",
   "execution_count": 27,
   "id": "cacd4ae5",
   "metadata": {},
   "outputs": [
    {
     "name": "stdout",
     "output_type": "stream",
     "text": [
      "[2, 4, 6, 8]\n"
     ]
    }
   ],
   "source": [
    "l=[1,2,3,4]\n",
    "for i in range (len(l)):#here the i has end index value because of the len() function\n",
    "    l[i]=l[i]*2 #it squares the values\n",
    "print(l)#it will prints the doubled values from list afer completion of loop\n"
   ]
  },
  {
   "cell_type": "markdown",
   "id": "2f89a887",
   "metadata": {},
   "source": [
    "# Tuple\n",
    "Tuple is an ordered collection of values\n",
    "\n",
    "tuples ara a lot like lists"
   ]
  },
  {
   "cell_type": "code",
   "execution_count": 29,
   "id": "df45576c",
   "metadata": {},
   "outputs": [
    {
     "name": "stdout",
     "output_type": "stream",
     "text": [
      "(1, 'abc', 1.23, True)\n"
     ]
    }
   ],
   "source": [
    "# a tuple with mixed datatypes\n",
    "t=(1,'abc',1.23,True)\n",
    "print(t)"
   ]
  },
  {
   "cell_type": "code",
   "execution_count": 30,
   "id": "4024753c",
   "metadata": {},
   "outputs": [
    {
     "name": "stdout",
     "output_type": "stream",
     "text": [
      "(1, 2, 3)\n",
      "('a', 'b', 'c')\n"
     ]
    }
   ],
   "source": [
    "t2=tuple([1,2,3])#converrt a list to tuple\n",
    "print(t2)\n",
    "\n",
    "#comvert a string to tuple\n",
    "t=tuple('abc')#it splits the string value to char\n",
    "print(t)"
   ]
  },
  {
   "cell_type": "markdown",
   "id": "e004d6da",
   "metadata": {},
   "source": [
    "# tuple packing and unpacking"
   ]
  },
  {
   "cell_type": "code",
   "execution_count": 34,
   "id": "fc7e04a5",
   "metadata": {},
   "outputs": [
    {
     "name": "stdout",
     "output_type": "stream",
     "text": [
      "red\n",
      "green\n",
      "blue\n",
      "cyan\n"
     ]
    }
   ],
   "source": [
    "t=('red','green','blue','cyan')\n",
    "#when a packed tuple is assingned to new tuple , the individual items are unpacked \n",
    "#assinged to the items of a new tuple\n",
    "\n",
    "(a,b,c,d)=t#it unpacks the values to the variables\n",
    "print(a)\n",
    "print(b)\n",
    "print(c)\n",
    "print(d)"
   ]
  },
  {
   "cell_type": "code",
   "execution_count": 1,
   "id": "b3fb86c8",
   "metadata": {},
   "outputs": [
    {
     "name": "stdout",
     "output_type": "stream",
     "text": [
      "(1, ['xx', 3], 4)\n"
     ]
    }
   ],
   "source": [
    "#the tuple is immutablity is applicable only to the top level of the tuple itself,not to its contets.\n",
    "\n",
    "t=(1,[2,3],4)#for example a list inside a tuple can be changed as usual\n",
    "\n",
    "t[1][0]='xx'#accessing and updating the 'xx' value\n",
    "\n",
    "print(t)"
   ]
  },
  {
   "cell_type": "markdown",
   "id": "05e49973",
   "metadata": {},
   "source": [
    "# Dictionary"
   ]
  },
  {
   "cell_type": "code",
   "execution_count": 7,
   "id": "bdd9b61b",
   "metadata": {},
   "outputs": [
    {
     "name": "stdout",
     "output_type": "stream",
     "text": [
      "{'name': 'bob', 'age': 25, 'job': 'dev'}\n",
      "{'name': 'bob', 'age': 25, 'job': 'dev'}\n"
     ]
    }
   ],
   "source": [
    "#create a dictionary with of two items tuples\n",
    "l=[('name','bob'),\n",
    "  ('age',25),\n",
    "  ('job',\"dev\")]\n",
    "\n",
    "d=dict(l)#it will converts the tuples to dictionary\n",
    "print(d)\n",
    "\n",
    "#create a dictionary with a tuple of two item lists\n",
    "t=(['name','bob'],\n",
    "  ['age',25],\n",
    "  ['job',\"dev\"])\n",
    "d=dict(t)#it will converts the list to dictionary\n",
    "print(d)\n"
   ]
  },
  {
   "cell_type": "code",
   "execution_count": 6,
   "id": "94c8d2c3",
   "metadata": {},
   "outputs": [
    {
     "name": "stdout",
     "output_type": "stream",
     "text": [
      "{'name': 'bob', 'age': 25, 'job': 'dev'}\n"
     ]
    }
   ],
   "source": [
    "#when the keys are simple string,if is sometimes easier to specify \n",
    "#ke:value pairs using keyword arguments.\n",
    "\n",
    "d=dict(name='bob',\n",
    "      age=25,\n",
    "      job='dev')\n",
    "print(d)\n"
   ]
  },
  {
   "cell_type": "code",
   "execution_count": 8,
   "id": "6f6c266c",
   "metadata": {},
   "outputs": [
    {
     "name": "stdout",
     "output_type": "stream",
     "text": [
      "{'name': 'bob', 'age': 25, 'job': 'dev'}\n"
     ]
    }
   ],
   "source": [
    "#create a dictionary with list of zipped keys/values\n",
    "keys=['name','age','job']\n",
    "values=['bob',25,'dev']\n",
    "d=dict(zip(keys,values))\n",
    "print(d)"
   ]
  },
  {
   "cell_type": "code",
   "execution_count": 9,
   "id": "1673b24b",
   "metadata": {},
   "outputs": [
    {
     "name": "stdout",
     "output_type": "stream",
     "text": [
      "{'a': 0, 'b': 0, 'c': 0}\n"
     ]
    }
   ],
   "source": [
    "#intialize dictionary with default value '0' for each key\n",
    "keys=['a','b','c']\n",
    "defaultvalue=0\n",
    "d=dict.fromkeys(keys,defaultvalue)\n",
    "\n",
    "print(d)"
   ]
  },
  {
   "cell_type": "code",
   "execution_count": 12,
   "id": "96c05aec",
   "metadata": {},
   "outputs": [
    {
     "name": "stdout",
     "output_type": "stream",
     "text": [
      "{'name': 'adam', 'age': 25}\n"
     ]
    }
   ],
   "source": [
    "#keys must be unique:\n",
    "#a key can appear in a dictionary only once\n",
    "d={'name':'bob','age':25,'name':\"adam\"} # keys should not repeat\n",
    "print(d)"
   ]
  },
  {
   "cell_type": "code",
   "execution_count": 22,
   "id": "9d220c4c",
   "metadata": {},
   "outputs": [
    {
     "name": "stdout",
     "output_type": "stream",
     "text": [
      "[1, 2]\n",
      "None\n"
     ]
    }
   ],
   "source": [
    "#Duplicate values \n",
    "d={'a':[1,2],'b':[1,2],'c':[1,2]}#we can create duplicate values but not duplicate keys\n",
    "\n",
    "print(d['a'])#we have access key by var['key'] if number var[key]\n",
    "\n",
    "#print(d['z'])#it will returns error if we try to access key that was no their\n",
    "\n",
    "print(d.get('z')) # that we can use the var.get(key) to check whether the key has value or not\n"
   ]
  },
  {
   "cell_type": "markdown",
   "id": "c906ae12",
   "metadata": {},
   "source": [
    "# adding a new value "
   ]
  },
  {
   "cell_type": "code",
   "execution_count": 26,
   "id": "4b02abeb",
   "metadata": {},
   "outputs": [
    {
     "name": "stdout",
     "output_type": "stream",
     "text": [
      "{'name': 'bob', 'age': 25, 'city': 'new york'}\n"
     ]
    }
   ],
   "source": [
    "d={'name':'bob','age':25}\n",
    "d['city']=\"new york\"#adding a new value to the dictionary\n",
    "print(d)"
   ]
  },
  {
   "cell_type": "markdown",
   "id": "1610cee7",
   "metadata": {},
   "source": [
    "\n",
    "# Merging"
   ]
  },
  {
   "cell_type": "code",
   "execution_count": 52,
   "id": "5caf96cb",
   "metadata": {},
   "outputs": [
    {
     "data": {
      "text/plain": [
       "{'name': 'alpha', 'age': 30, 'job': 'dev', 'city': 'new york'}"
      ]
     },
     "execution_count": 52,
     "metadata": {},
     "output_type": "execute_result"
    }
   ],
   "source": [
    "d={'name':'bob','age':25,'job':'dev'}\n",
    "d2={'name':'alpha','age':30,'city':'new york'}\n",
    "d.update(d2)#here we merge two dictionaries\n",
    "d\n"
   ]
  },
  {
   "cell_type": "code",
   "execution_count": 32,
   "id": "3afb32d0",
   "metadata": {},
   "outputs": [
    {
     "name": "stdout",
     "output_type": "stream",
     "text": [
      "{'name': 'bob', 'job': 'dev'}\n"
     ]
    }
   ],
   "source": [
    "d={'name':'bob','age':25,'job':'dev'}\n",
    "x=d.pop('age')\n",
    "print(d)"
   ]
  },
  {
   "cell_type": "code",
   "execution_count": 31,
   "id": "2b8284a6",
   "metadata": {},
   "outputs": [
    {
     "name": "stdout",
     "output_type": "stream",
     "text": [
      "{'name': 'bob', 'age': 25}\n"
     ]
    }
   ],
   "source": [
    "d={'name':'bob','age':25,'job':'dev'}\n",
    "del d['job']\n",
    "print (d)\n"
   ]
  },
  {
   "cell_type": "code",
   "execution_count": 36,
   "id": "4946d091",
   "metadata": {},
   "outputs": [
    {
     "name": "stdout",
     "output_type": "stream",
     "text": [
      "{'name': 'bob', 'age': 25}\n",
      "('job', 'dev')\n"
     ]
    }
   ],
   "source": [
    "d={'name':'bob','age':25,'job':'dev'}\n",
    "#the popitem() method removes and returns the last inserted item(recently inserted value)\n",
    "x=d.popitem()\n",
    "print(d)\n",
    "#it keeps the poped values and keys\n",
    "print(x)"
   ]
  },
  {
   "cell_type": "code",
   "execution_count": 37,
   "id": "ff7b0254",
   "metadata": {},
   "outputs": [
    {
     "name": "stdout",
     "output_type": "stream",
     "text": [
      "['bob', 25, 'dev']\n"
     ]
    }
   ],
   "source": [
    "d={'name':'bob','age':25,'job':'dev'}\n",
    "print(list(d.values()))#it prints the values with list"
   ]
  },
  {
   "cell_type": "code",
   "execution_count": 38,
   "id": "54ee72e3",
   "metadata": {},
   "outputs": [
    {
     "name": "stdout",
     "output_type": "stream",
     "text": [
      "[('name', 'bob'), ('age', 25), ('job', 'dev')]\n"
     ]
    }
   ],
   "source": [
    "d={'name':'bob','age':25,'job':'dev'}\n",
    "print(list(d.items())) #it prints both the key and values"
   ]
  },
  {
   "cell_type": "code",
   "execution_count": 46,
   "id": "39dd8a8d",
   "metadata": {},
   "outputs": [
    {
     "name": "stdout",
     "output_type": "stream",
     "text": [
      "name\n",
      "bob\n",
      "age\n",
      "25\n",
      "job\n",
      "dev\n"
     ]
    }
   ],
   "source": [
    "d={'name':'bob','age':25,'job':'dev'}\n",
    "for i in d:\n",
    "    print(i)#it prints only keys\n",
    "    print(d[i]) #it prints the values "
   ]
  },
  {
   "cell_type": "code",
   "execution_count": 48,
   "id": "9e50c9c8",
   "metadata": {},
   "outputs": [
    {
     "name": "stdout",
     "output_type": "stream",
     "text": [
      "True\n",
      "False\n"
     ]
    }
   ],
   "source": [
    "#for checking whether the keys are available in the dictionary\n",
    "d={'name':'bob','age':25,'job':'dev'}\n",
    "print('name' in d) #it returns the true\n",
    "print('life' in d) #it returns false"
   ]
  },
  {
   "cell_type": "code",
   "execution_count": 50,
   "id": "fd1e924a",
   "metadata": {},
   "outputs": [
    {
     "name": "stdout",
     "output_type": "stream",
     "text": [
      "True\n",
      "False\n"
     ]
    }
   ],
   "source": [
    "#for checking whether the values are available in the dictionary\n",
    "d={'name':'bob','age':25,'job':'dev'}\n",
    "print('bob'in d.values())#it returns the true\n",
    "print('adam'in d.values())#it returns false"
   ]
  },
  {
   "cell_type": "code",
   "execution_count": 51,
   "id": "06825af0",
   "metadata": {},
   "outputs": [
    {
     "name": "stdout",
     "output_type": "stream",
     "text": [
      "3\n"
     ]
    }
   ],
   "source": [
    "d={'name':'bob','age':25,'job':'dev'}\n",
    "print(len(d))#it prints the length based on no.of datas present in the dictionary"
   ]
  },
  {
   "cell_type": "code",
   "execution_count": null,
   "id": "9f499af6",
   "metadata": {},
   "outputs": [],
   "source": []
  }
 ],
 "metadata": {
  "kernelspec": {
   "display_name": "Python 3 (ipykernel)",
   "language": "python",
   "name": "python3"
  },
  "language_info": {
   "codemirror_mode": {
    "name": "ipython",
    "version": 3
   },
   "file_extension": ".py",
   "mimetype": "text/x-python",
   "name": "python",
   "nbconvert_exporter": "python",
   "pygments_lexer": "ipython3",
   "version": "3.9.7"
  }
 },
 "nbformat": 4,
 "nbformat_minor": 5
}
