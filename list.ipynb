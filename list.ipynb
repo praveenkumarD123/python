{
 "cells": [
  {
   "cell_type": "code",
   "execution_count": 11,
   "id": "dde62c4f",
   "metadata": {},
   "outputs": [
    {
     "name": "stdout",
     "output_type": "stream",
     "text": [
      "['p', 'y', 't', 'h', 'o', 'n']\n"
     ]
    }
   ],
   "source": [
    "#list\n",
    "x=list('python')\n",
    "print(x)"
   ]
  },
  {
   "cell_type": "code",
   "execution_count": 13,
   "id": "015d35bd",
   "metadata": {},
   "outputs": [
    {
     "data": {
      "text/plain": [
       "[1, 2, 3, 4, 5, 6]"
      ]
     },
     "execution_count": 13,
     "metadata": {},
     "output_type": "execute_result"
    }
   ],
   "source": [
    "a=list((1,2,3,4,5,6))\n",
    "a"
   ]
  },
  {
   "cell_type": "code",
   "execution_count": 14,
   "id": "25c5388e",
   "metadata": {},
   "outputs": [
    {
     "data": {
      "text/plain": [
       "[2, 3, 4, 5, 6, 7, 8, 9, 10]"
      ]
     },
     "execution_count": 14,
     "metadata": {},
     "output_type": "execute_result"
    }
   ],
   "source": [
    "#range\n",
    "range_no=list(range(2,11))\n",
    "range_no"
   ]
  },
  {
   "cell_type": "code",
   "execution_count": 18,
   "id": "3d248e93",
   "metadata": {},
   "outputs": [
    {
     "name": "stdout",
     "output_type": "stream",
     "text": [
      "c\n",
      "aa\n",
      "[1, 2, 3]\n",
      "1\n"
     ]
    }
   ],
   "source": [
    "long_list=['a','b',['aa','bb',[1,2,3],'cc'],'c']\n",
    "print(long_list[-1])\n",
    "print(long_list[-2][-4])\n",
    "print(long_list[-2][-2])\n",
    "print(long_list[-2][-2][-3])"
   ]
  },
  {
   "cell_type": "code",
   "execution_count": 21,
   "id": "cf44d086",
   "metadata": {},
   "outputs": [
    {
     "name": "stdout",
     "output_type": "stream",
     "text": [
      "['a', 'b', ['aa', 'bb', [1, 2, 3], 'cc'], 'c', 'd']\n",
      "['a', 'b', ['aa', 'bb', [1, 2, 3], 'cc', 'dd'], 'c', 'd']\n",
      "['a', 'b', ['aa', 'bb', [1, 2, 3, 4], 'cc', 'dd'], 'c', 'd']\n"
     ]
    }
   ],
   "source": [
    "#append \n",
    "l=['a','b',['aa','bb',[1,2,3],'cc'],'c']\n",
    "l.append('d')\n",
    "print(l)\n",
    "l[2].append('dd')\n",
    "print(l)\n",
    "l[2][2].append(4)\n",
    "print(l)"
   ]
  },
  {
   "cell_type": "code",
   "execution_count": 67,
   "id": "113551c5",
   "metadata": {},
   "outputs": [
    {
     "name": "stdout",
     "output_type": "stream",
     "text": [
      "['z', 'a', 'b', ['aa', 'bb', [1, 2, 3], 'cc'], 'c']\n",
      "['z', 'a', 'b', ['zz', 'aa', 'bb', [1, 2, 3], 'cc'], 'c']\n",
      "['z', 'a', 'b', ['zz', 'aa', 'bb', [0, 1, 2, 3], 'cc'], 'c']\n"
     ]
    },
    {
     "data": {
      "text/plain": [
       "['z', 'a', 'b', ['zz', 'aa', 'bb', [0, 1, 2, 3], 'cc'], 'c', 'd', 'e', 'f']"
      ]
     },
     "execution_count": 67,
     "metadata": {},
     "output_type": "execute_result"
    }
   ],
   "source": [
    "l=['a','b',['aa','bb',[1,2,3],'cc'],'c']\n",
    "l.insert(0,'z')\n",
    "print(l)\n",
    "l[3].insert(0,'zz')h\n",
    "print(l)\n",
    "l[3][3].insert(0,0)\n",
    "print(l)\n",
    "l.extend(['d','e','f'])\n",
    "l\n",
    " "
   ]
  },
  {
   "cell_type": "code",
   "execution_count": null,
   "id": "70922bca",
   "metadata": {},
   "outputs": [],
   "source": []
  },
  {
   "cell_type": "code",
   "execution_count": null,
   "id": "2daf8313",
   "metadata": {},
   "outputs": [],
   "source": []
  }
 ],
 "metadata": {
  "kernelspec": {
   "display_name": "Python 3 (ipykernel)",
   "language": "python",
   "name": "python3"
  },
  "language_info": {
   "codemirror_mode": {
    "name": "ipython",
    "version": 3
   },
   "file_extension": ".py",
   "mimetype": "text/x-python",
   "name": "python",
   "nbconvert_exporter": "python",
   "pygments_lexer": "ipython3",
   "version": "3.9.7"
  }
 },
 "nbformat": 4,
 "nbformat_minor": 5
}
